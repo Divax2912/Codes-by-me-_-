{
  "nbformat": 4,
  "nbformat_minor": 0,
  "metadata": {
    "colab": {
      "provenance": []
    },
    "kernelspec": {
      "name": "python3",
      "display_name": "Python 3"
    },
    "language_info": {
      "name": "python"
    }
  },
  "cells": [
    {
      "cell_type": "code",
      "execution_count": null,
      "metadata": {
        "id": "lW1kueft2sKY"
      },
      "outputs": [],
      "source": [
        "import numpy as np\n",
        "import pandas as pd\n",
        "import matplotlib.pyplot as plt\n",
        "import cartopy.crs as ccrs\n",
        "import cartopy.feature as cfeature\n",
        "from sklearn.model_selection import train_test_split\n",
        "from keras.models import Sequential\n",
        "from keras.layers import Dense\n",
        "from sklearn.metrics import mean_squared_error\n",
        "\n",
        "# Load and preprocess data\n",
        "data = pd.read_csv(\"/content/database (1).csv\")\n",
        "data = data[['Latitude', 'Longitude', 'Depth', 'Magnitude']]\n",
        "\n",
        "# Create a Cartopy map for visualization\n",
        "fig = plt.figure(figsize=(10, 8))\n",
        "ax = plt.axes(projection=ccrs.Robinson(central_longitude=0))\n",
        "\n",
        "# Add map features\n",
        "ax.add_feature(cfeature.COASTLINE)\n",
        "ax.add_feature(cfeature.BORDERS, linestyle=':')\n",
        "ax.add_feature(cfeature.LAND, edgecolor='black')\n",
        "\n",
        "# Plot earthquake data\n",
        "sc = ax.scatter(data['Longitude'], data['Latitude'], c=data['Depth'], s=data['Magnitude'] * 5,\n",
        "                cmap='viridis', transform=ccrs.PlateCarree())\n",
        "\n",
        "# Add a colorbar\n",
        "cbar = plt.colorbar(sc, orientation='vertical', label='Depth')\n",
        "\n",
        "# Customize the colorbar\n",
        "cbar.set_ticks([data['Depth'].min(), data['Depth'].max()])\n",
        "cbar.set_ticklabels(['Shallow', 'Deep'])\n",
        "\n",
        "# Set the title\n",
        "plt.title('Earthquake Predictions')\n",
        "\n",
        "# Split data into training and testing sets\n",
        "X = data[['Latitude', 'Longitude', 'Depth']]\n",
        "y = data[['Magnitude', 'Depth']]  # Choose either 'Magnitude' or 'Depth' as the target\n",
        "\n",
        "X_train, X_test, y_train, y_test = train_test_split(X, y, test_size=0.2, random_state=42)\n",
        "\n",
        "# Build the neural network model\n",
        "model = Sequential()\n",
        "model.add(Dense(16, activation='relu', input_shape=(X_train.shape[1],)))\n",
        "model.add(Dense(16, activation='relu'))\n",
        "model.add(Dense(2, activation='linear'))  # Use 'linear' for regression\n",
        "\n",
        "model.compile(optimizer='adam', loss='mean_squared_error', metrics=['mse'])\n",
        "\n",
        "# Train the model\n",
        "model.fit(X_train, y_train, batch_size=10, epochs=20, verbose=1, validation_data=(X_test, y_test))\n",
        "\n",
        "# Make predictions\n",
        "y_pred = model.predict(X_test)\n",
        "\n",
        "# Calculate Mean Squared Error\n",
        "mse = mean_squared_error(y_test, y_pred)\n",
        "print(\"Mean Squared Error:\", mse)\n",
        "\n",
        "# Show the Cartopy map\n",
        "plt.show()\n"
      ]
    }
  ]
}